{
 "cells": [
  {
   "cell_type": "code",
   "execution_count": 62,
   "metadata": {},
   "outputs": [],
   "source": [
    "#import necessary libraries\n",
    "import pandas as pd\n",
    "import numpy as np\n",
    "import matplotlib.pyplot as plt \n",
    "import seaborn as sns \n",
    "from sklearn.metrics import accuracy_score\n",
    "\n",
    "#defining functions for later us \n",
    "#calculates the r value and squared loss of a classifier/model\n",
    "#takes four arguments, the chosen classifier and the splitted training set \n",
    "def calc_error_r(classi, X_train, X_test, y_train, y_test):\n",
    "    #fit the classifier with the X and y trainings sets\n",
    "    classi.fit(X_train, y_train)\n",
    "    #try to predict the the values of y_test given the X_test as input data \n",
    "    y_test_predict = classi.predict(X_test)\n",
    "    \n",
    "    print(\"r square: \", format(r2_score(y_test, y_test_predict)), \"squared loss: \", format(mean_squared_error(y_test, y_test_predict)), \"score accuracy: \", format(accuracy_score(y_test, y_test_predict.round())))\n",
    "\n",
    "    \n",
    "def calc_score(classi, X_train, X_test, y_train, y_test):\n",
    "    classi.fit(X_train, y_train)\n",
    "    print(classi.score(X_test, y_test))\n",
    "    "
   ]
  },
  {
   "cell_type": "code",
   "execution_count": 63,
   "metadata": {},
   "outputs": [
    {
     "name": "stdout",
     "output_type": "stream",
     "text": [
      "   RowNumber  CustomerId   Surname  CreditScore Geography  Gender  Age  \\\n",
      "0          1    15634602  Hargrave          619    France  Female   42   \n",
      "1          2    15647311      Hill          608     Spain  Female   41   \n",
      "2          3    15619304      Onio          502    France  Female   42   \n",
      "3          4    15701354      Boni          699    France  Female   39   \n",
      "4          5    15737888  Mitchell          850     Spain  Female   43   \n",
      "\n",
      "   Tenure    Balance  NumOfProducts  HasCrCard  IsActiveMember  \\\n",
      "0       2       0.00              1          1               1   \n",
      "1       1   83807.86              1          0               1   \n",
      "2       8  159660.80              3          1               0   \n",
      "3       1       0.00              2          0               0   \n",
      "4       2  125510.82              1          1               1   \n",
      "\n",
      "   EstimatedSalary  Exited  \n",
      "0        101348.88       1  \n",
      "1        112542.58       0  \n",
      "2        113931.57       1  \n",
      "3         93826.63       0  \n",
      "4         79084.10       0  \n"
     ]
    }
   ],
   "source": [
    "#import data\n",
    "data = pd.read_csv(\"datasets-35847-51854-Churn Modeling.csv\")\n",
    "old_data = pd.read_csv(\"datasets-35847-51854-Churn Modeling.csv\")\n",
    "#show the first 5 lines of data to see if the data has been loaded correctly \n",
    "print(data.head())\n",
    "\n",
    "# preprocessing#################################################################################\n",
    "\n",
    "#change string values to int## Male = 0, Female = 1, Germany = 0, Spain = 1, France = 2\n",
    "#we replace every chosen feature value with the following syntax \"feature\": <int>\n",
    "data[\"Gender\"].replace({\"Male\": 0, \"Female\": 1}, inplace=True)\n",
    "data[\"Geography\"].replace({\"Germany\": 0, \"Spain\": 1, \"France\": 2}, inplace=True)\n",
    "old_data[\"Gender\"].replace({\"Male\": 0, \"Female\": 1}, inplace=True)\n",
    "old_data[\"Geography\"].replace({\"Germany\": 0, \"Spain\": 1, \"France\": 2}, inplace=True)\n",
    "\n",
    "#Drop Data that is not relevant for the Data Analysis \n",
    "#the reasing of the features that are possibly important can be seen in the project report \n",
    "data = data.drop(['RowNumber','CustomerId','Surname'],axis=1)\n",
    "old_data = old_data.drop(['RowNumber','CustomerId','Surname'],axis=1)\n",
    "\n",
    "\n",
    "\n",
    "#check if there are any missing values in the data \n",
    "#there is no missing data "
   ]
  },
  {
   "cell_type": "code",
   "execution_count": 64,
   "metadata": {
    "scrolled": true
   },
   "outputs": [
    {
     "name": "stdout",
     "output_type": "stream",
     "text": [
      "   CreditScore  Geography  Gender  Age  Tenure    Balance  NumOfProducts  \\\n",
      "1          608          1       1   41       1   83807.86              1   \n",
      "2          502          2       1   42       8  159660.80              3   \n",
      "4          850          1       1   43       2  125510.82              1   \n",
      "5          645          1       0   44       8  113755.78              2   \n",
      "6          822          2       0   50       7       0.00              2   \n",
      "\n",
      "   HasCrCard  IsActiveMember  EstimatedSalary  Exited  Balance_per_Tenure  \\\n",
      "1          0               1        112542.58       0          83807.8600   \n",
      "2          1               0        113931.57       1          19957.6000   \n",
      "4          1               1         79084.10       0          62755.4100   \n",
      "5          1               0        149756.71       1          14219.4725   \n",
      "6          1               1         10062.80       0              0.0000   \n",
      "\n",
      "   EstimatedSalary_per_Tenure  \n",
      "1               112542.580000  \n",
      "2                14241.446250  \n",
      "4                39542.050000  \n",
      "5                18719.588750  \n",
      "6                 1437.542857  \n"
     ]
    },
    {
     "data": {
      "image/png": "[encoded data removed]",
      "text/plain": [
       "<Figure size 1440x1080 with 12 Axes>"
      ]
     },
     "metadata": {
      "needs_background": "light"
     },
     "output_type": "display_data"
    },
    {
     "name": "stdout",
     "output_type": "stream",
     "text": [
      "IsActiveMember                1.000000\n",
      "Geography                     0.155278\n",
      "NumOfProducts                 0.067777\n",
      "CreditScore                   0.038164\n",
      "EstimatedSalary_per_Tenure    0.000050\n",
      "Tenure                       -0.008185\n",
      "HasCrCard                    -0.014665\n",
      "EstimatedSalary              -0.019473\n",
      "Balance_per_Tenure           -0.052886\n",
      "Gender                       -0.112342\n",
      "Balance                      -0.119638\n",
      "Age                          -0.213969\n",
      "Exited                       -1.000000\n",
      "Name: IsActiveMember, dtype: float64\n",
      "\n",
      "\n",
      "Exited                        1.000000\n",
      "Age                           0.213969\n",
      "Balance                       0.119638\n",
      "Gender                        0.112342\n",
      "Balance_per_Tenure            0.052886\n",
      "EstimatedSalary               0.019473\n",
      "HasCrCard                     0.014665\n",
      "Tenure                        0.008185\n",
      "EstimatedSalary_per_Tenure   -0.000050\n",
      "CreditScore                  -0.038164\n",
      "NumOfProducts                -0.067777\n",
      "Geography                    -0.155278\n",
      "IsActiveMember               -1.000000\n",
      "Name: Exited, dtype: float64\n"
     ]
    }
   ],
   "source": [
    "# get all rows with Exited and IsActiveMember = 0\n",
    "values = data[(data['Exited'] == 0) & (data['IsActiveMember'] == 0)].index\n",
    "#Delete these row indexes from dataFrame\n",
    "data.drop(values , inplace=True)\n",
    "\n",
    "# get all rows with Exited and IsActiveMember = 1\n",
    "values = data[(data['Exited'] == 1) & (data['IsActiveMember'] == 1)].index\n",
    "#Delete these row indexes from dataFrame\n",
    "data.drop(values , inplace=True)\n",
    "\n",
    "#add features that could be important for a better result \n",
    "data[\"Balance_per_Tenure\"] = data[\"Balance\"]/data[\"Tenure\"]\n",
    "data[\"EstimatedSalary_per_Tenure\"] = data[\"EstimatedSalary\"]/data[\"Tenure\"]\n",
    "#due to the calculation with 0 inf values could be produced, change them to 0\n",
    "data = data.replace([np.inf, -np.inf], 0)\n",
    "\n",
    "print(data.head())\n",
    "\n",
    "#see correlations between features\n",
    "#draw histrograms in order to see the distributions of the features \n",
    "data.hist([\"CreditScore\",\"Balance\",\"Age\",\"Tenure\",\"EstimatedSalary\",\"NumOfProducts\", \"Geography\", \"Gender\", \"HasCrCard\", \"IsActiveMember\", \"Exited\"],bins=25, figsize=(20,15))\n",
    "plt.show()\n",
    "\n",
    "#plot the data in order to see outliers\n",
    "import matplotlib.pyplot as plt\n",
    "\n",
    "\n",
    "\n",
    "#look for correlations between the feature vectors\n",
    "corr_matrix = data.corr()\n",
    "print(corr_matrix[\"IsActiveMember\"].sort_values(ascending=False))\n",
    "print(\"\\n\")\n",
    "print(corr_matrix[\"Exited\"].sort_values(ascending=False))\n",
    "\n",
    "\n",
    "\n",
    "\n"
   ]
  },
  {
   "cell_type": "code",
   "execution_count": 65,
   "metadata": {},
   "outputs": [],
   "source": [
    "#Prepare the data for testing and training set for Exited##############################################################\n",
    "#take the data before it has been changed //1000 rows\n",
    "X_Exited_normal = old_data.iloc[:,:-1]\n",
    "#take every data without Exited feature\n",
    "X_Exited_new = data.iloc[:,[0,1,2,3,4,5,6,7,8,9]]\n",
    "#take all positive correlated features\n",
    "X_Exited_corr = data.iloc[:,[2,3,5,9]]\n",
    "#continious data\n",
    "X_Exited_corr_ext = data.iloc[:, [2,3,5,9,11,12]]\n",
    "\n",
    "\n",
    "#PCA? We could apply PCA but the data is not really in the shape to reduce the dimensions. If we would do that the data\n",
    "#possibly be falsified due to the high amount of outliers \n",
    "\n",
    "#extract the exited feature\n",
    "y_Exited_normal = old_data.iloc[:,-1].values\n",
    "y_Exited_new = data.iloc[:,-3].values\n",
    "\n",
    "# Splitting the data into the Training set and Test set for every case\n",
    "from sklearn.model_selection import train_test_split\n",
    "X_train_Exited_normal, X_test_Exited_normal, y_train_Exited_normal, y_test_Exited_normal = train_test_split(X_Exited_normal, y_Exited_normal, test_size=0.2, random_state=10)\n",
    "X_train_Exited_new, X_test_Exited_new, y_train_Exited_new, y_test_Exited_new = train_test_split(X_Exited_new, y_Exited_new, test_size=0.2, random_state=10)\n",
    "X_train_Exited_corr, X_test_Exited_corr, y_train_Exited_corr, y_test_Exited_corr = train_test_split(X_Exited_corr, y_Exited_new, test_size=0.2, random_state=10)\n",
    "X_train_Exited_ext, X_test_Exited_ext, y_train_Exited_ext, y_test_Exited_ext = train_test_split(X_Exited_corr_ext, y_Exited_new, test_size=0.2, random_state=10)"
   ]
  },
  {
   "cell_type": "code",
   "execution_count": 66,
   "metadata": {},
   "outputs": [
    {
     "name": "stdout",
     "output_type": "stream",
     "text": [
      "      Geography  Gender  Age  Tenure    Balance  NumOfProducts  HasCrCard  \\\n",
      "1             1       1   41       1   83807.86              1          0   \n",
      "2             2       1   42       8  159660.80              3          1   \n",
      "4             1       1   43       2  125510.82              1          1   \n",
      "5             1       0   44       8  113755.78              2          1   \n",
      "6             2       0   50       7       0.00              2          1   \n",
      "7             0       1   29       4  115046.74              4          1   \n",
      "8             2       0   44       4  142051.07              2          0   \n",
      "9             2       0   27       2  134603.88              1          1   \n",
      "14            1       1   35       7       0.00              2          1   \n",
      "15            0       0   45       3  143129.41              2          0   \n",
      "16            0       0   58       1  132602.88              1          1   \n",
      "17            1       1   24       9       0.00              2          1   \n",
      "19            2       1   24       6       0.00              2          1   \n",
      "20            2       0   41       8       0.00              2          1   \n",
      "22            1       1   38       4       0.00              1          1   \n",
      "23            2       0   46       3       0.00              2          0   \n",
      "24            2       1   38       5       0.00              1          1   \n",
      "25            2       0   25       3       0.00              2          0   \n",
      "26            0       0   36       2  136815.64              1          1   \n",
      "28            0       1   43       3  141349.43              1          1   \n",
      "29            2       0   29       0   59697.17              2          1   \n",
      "30            1       1   39       3       0.00              3          1   \n",
      "31            2       0   36       7   85311.70              1          0   \n",
      "33            1       1   42       6       0.00              2          1   \n",
      "34            1       1   29       9       0.00              2          1   \n",
      "35            2       1   45       0  134264.04              1          1   \n",
      "36            1       0   31       3  145260.23              1          0   \n",
      "37            1       0   33       7   76548.60              1          0   \n",
      "38            2       0   36       7       0.00              1          1   \n",
      "39            0       0   41       6   70349.48              2          0   \n",
      "...         ...     ...  ...     ...        ...            ...        ...   \n",
      "9939          1       1   57       9       0.00              2          1   \n",
      "9941          1       0   36       8       0.00              2          0   \n",
      "9943          1       0   23       2       0.00              1          1   \n",
      "9944          0       0   41       7  190409.34              2          1   \n",
      "9945          2       0   44      10       0.00              2          0   \n",
      "9946          2       1   33       9       0.00              2          0   \n",
      "9948          0       1   53       1  139687.66              2          1   \n",
      "9950          0       1   39      10  129845.26              1          1   \n",
      "9951          1       0   46       8       0.00              2          1   \n",
      "9953          2       0   47       2       0.00              2          1   \n",
      "9954          2       0   45       6  155417.61              1          0   \n",
      "9955          1       0   29       4       0.00              2          1   \n",
      "9956          2       1   46      10   85216.61              1          1   \n",
      "9958          2       0   37       6       0.00              1          1   \n",
      "9962          1       0   44       9       0.00              1          0   \n",
      "9966          1       0   35       4  125920.98              1          1   \n",
      "9967          2       0   48       5  118469.38              1          1   \n",
      "9969          2       0   41       6       0.00              1          0   \n",
      "9973          2       0   27       7       0.00              2          1   \n",
      "9975          0       0   50       1  113957.01              2          1   \n",
      "9977          2       1   32       9       0.00              2          1   \n",
      "9979          2       1   58       1   90022.85              1          0   \n",
      "9982          0       1   46       7  137145.12              1          1   \n",
      "9984          0       0   35       7   90602.42              2          1   \n",
      "9986          0       0   47       1  183579.54              2          0   \n",
      "9987          1       0   30       8  180307.73              2          1   \n",
      "9989          1       0   28       4       0.00              2          1   \n",
      "9991          2       1   53       4   88381.21              1          1   \n",
      "9996          2       0   35      10   57369.61              1          1   \n",
      "9998          0       0   42       3   75075.31              2          1   \n",
      "\n",
      "      IsActiveMember  EstimatedSalary  \n",
      "1                  1        112542.58  \n",
      "2                  0        113931.57  \n",
      "4                  1         79084.10  \n",
      "5                  0        149756.71  \n",
      "6                  1         10062.80  \n",
      "7                  0        119346.88  \n",
      "8                  1         74940.50  \n",
      "9                  1         71725.73  \n",
      "14                 1         65951.65  \n",
      "15                 1         64327.26  \n",
      "16                 0          5097.67  \n",
      "17                 1         14406.41  \n",
      "19                 1         54724.03  \n",
      "20                 1        170886.17  \n",
      "22                 0        118913.53  \n",
      "23                 1          8487.75  \n",
      "24                 1        187616.16  \n",
      "25                 1        124508.29  \n",
      "26                 1        170041.95  \n",
      "28                 1        100187.43  \n",
      "29                 1         53483.21  \n",
      "30                 0        140469.38  \n",
      "31                 1        156731.91  \n",
      "33                 1         34410.55  \n",
      "34                 1        142033.07  \n",
      "35                 0         27822.99  \n",
      "36                 1        114066.77  \n",
      "37                 1         98453.45  \n",
      "38                 1         40812.90  \n",
      "39                 1        178074.04  \n",
      "...              ...              ...  \n",
      "9939               1        135502.77  \n",
      "9941               1        123866.43  \n",
      "9943               1          6847.73  \n",
      "9944               1        138361.48  \n",
      "9945               1        166707.22  \n",
      "9946               1        107221.03  \n",
      "9948               1         12913.92  \n",
      "9950               1         96444.88  \n",
      "9951               1         60739.16  \n",
      "9953               1         97057.28  \n",
      "9954               1          3449.22  \n",
      "9955               1         37605.90  \n",
      "9956               0        117369.52  \n",
      "9958               1         17802.42  \n",
      "9962               0         59207.41  \n",
      "9966               1         20393.44  \n",
      "9967               1        158590.25  \n",
      "9969               1        112585.19  \n",
      "9973               1        157474.10  \n",
      "9975               0        196526.55  \n",
      "9977               1         24991.92  \n",
      "9979               1          2988.28  \n",
      "9982               0        115146.40  \n",
      "9984               1         51695.41  \n",
      "9986               1         34047.54  \n",
      "9987               1          1914.41  \n",
      "9989               1        179436.60  \n",
      "9991               0         69384.71  \n",
      "9996               1        101699.77  \n",
      "9998               0         92888.52  \n",
      "\n",
      "[5718 rows x 9 columns]\n",
      "[[608]\n",
      " [502]\n",
      " [850]\n",
      " ...\n",
      " [597]\n",
      " [516]\n",
      " [772]]\n"
     ]
    },
    {
     "name": "stderr",
     "output_type": "stream",
     "text": [
      "C:\\Users\\Eiden\\Anaconda3\\lib\\site-packages\\sklearn\\preprocessing\\label.py:235: DataConversionWarning: A column-vector y was passed when a 1d array was expected. Please change the shape of y to (n_samples, ), for example using ravel().\n",
      "  y = column_or_1d(y, warn=True)\n",
      "C:\\Users\\Eiden\\Anaconda3\\lib\\site-packages\\sklearn\\preprocessing\\label.py:235: DataConversionWarning: A column-vector y was passed when a 1d array was expected. Please change the shape of y to (n_samples, ), for example using ravel().\n",
      "  y = column_or_1d(y, warn=True)\n"
     ]
    }
   ],
   "source": [
    "#credit score\n",
    "X_Credit_new = data.iloc[:,[1,2,3,4,5,6,7,8,9]]\n",
    "print(X_Credit_new)\n",
    "y_Credit_new = data.iloc[:,[0]].values\n",
    "print(y_Credit_new)\n",
    "\n",
    "X_train_Credit, X_test_Credit, y_train_Credit, y_test_Credit = train_test_split(X_Credit_new, y_Credit_new, test_size=0.2, random_state=10)\n",
    "\n",
    "#solve problem of continious values\n",
    "from sklearn import preprocessing\n",
    "encoder = preprocessing.LabelEncoder()\n",
    "y_train_Credit = encoder.fit_transform(y_train_Credit)\n",
    "y_test_Credit = encoder.fit_transform(y_test_Credit)"
   ]
  },
  {
   "cell_type": "code",
   "execution_count": 67,
   "metadata": {},
   "outputs": [],
   "source": [
    "#############################Prepare the data for testing and training set for NumberofProd##############################################################\n",
    "#take all positive correlated features\n",
    "X_prod_new = data.iloc[:,[0,1,2,3,4,5,7,8,9,10,11,12]]\n",
    "#continious data\n",
    "y_prod_new = data.iloc[:,-7].values\n",
    "\n",
    "X_train_Prod, X_test_Prod, y_train_Prod, y_test_Prod = train_test_split(X_Prod_new, y_Prod_new, test_size=0.2, random_state=10)\n"
   ]
  },
  {
   "cell_type": "code",
   "execution_count": 68,
   "metadata": {},
   "outputs": [],
   "source": []
  },
  {
   "cell_type": "code",
   "execution_count": 69,
   "metadata": {},
   "outputs": [],
   "source": [
    "#Prepare the data for testing and training set for StillActive##############################################################\n",
    "#take the data before it has been changed //1000 rows\n",
    "X_Active_normal = old_data.iloc[:,[0,1,2,3,4,5,6,7,9,10]]\n",
    "#take every data without Exited feature\n",
    "X_Active_new = data.iloc[:,[1,2,3,4,5,6,7,9,10,11,12]]\n",
    "\n",
    "#extract the exited feature\n",
    "y_Active_normal = old_data.iloc[:,-1].values\n",
    "y_Active_new = data.iloc[:,-3].values\n",
    "\n",
    "\n",
    "X_train_Active_normal, X_test_Active_normal, y_train_Active_normal, y_test_Active_normal = train_test_split(X_Active_normal, y_Active_normal, test_size=0.2, random_state=10)\n",
    "X_train_Active_new, X_test_Active_new, y_train_Active_new, y_test_Active_new = train_test_split(X_Active_new, y_Active_new, test_size=0.2, random_state=10)"
   ]
  },
  {
   "cell_type": "code",
   "execution_count": 70,
   "metadata": {
    "scrolled": true
   },
   "outputs": [],
   "source": [
    "#import important libs\n",
    "from sklearn.impute import SimpleImputer\n",
    "imputer = SimpleImputer(missing_values=np.nan, strategy='mean')\n",
    "\n",
    "# imputation Exited normal\n",
    "X_train_Exited_normal = imputer.fit_transform(X_train_Exited_normal)\n",
    "X_test_Exited_normal = imputer.transform(X_test_Exited_normal)\n",
    "# imputation Exited_new\n",
    "X_train_Exited_new = imputer.fit_transform(X_train_Exited_new)\n",
    "X_test_Exited_new = imputer.transform(X_test_Exited_new)\n",
    "# imputation Exited_corr\n",
    "X_train_Exited_corr = imputer.fit_transform(X_train_Exited_corr)\n",
    "X_test_Exited_corr = imputer.fit_transform(X_test_Exited_corr)\n",
    "# imputation Exited_ext\n",
    "X_train_Exited_ext = imputer.fit_transform(X_train_Exited_ext)\n",
    "X_test_Exited_ext = imputer.fit_transform(X_test_Exited_ext)\n",
    "\n",
    "#imputation Credit_new\n",
    "X_train_Credit = imputer.fit_transform(X_train_Credit)\n",
    "X_test_Credit = imputer.transform(X_test_Credit)\n",
    "\n",
    "#imputation Prod\n",
    "X_train_Prod = imputer.fit_transform(X_train_Prod)\n",
    "X_test_Prod = imputer.transform(X_test_Prod)\n",
    "\n",
    "#imputation Active_normal\n",
    "X_train_Active_normal = imputer.fit_transform(X_train_Active_normal)\n",
    "X_test_Active_normal = imputer.transform(X_test_Active_normal)\n",
    "#imputation Active_new\n",
    "X_train_Active_new = imputer.fit_transform(X_train_Active_new)\n",
    "X_test_Active_new = imputer.fit_transform(X_test_Active_new)\n"
   ]
  },
  {
   "cell_type": "code",
   "execution_count": 71,
   "metadata": {
    "scrolled": true
   },
   "outputs": [],
   "source": [
    "#import libs\n",
    "from sklearn.preprocessing import RobustScaler\n",
    "from sklearn.preprocessing import StandardScaler\n",
    "sc = StandardScaler()\n",
    "# we use robustscaler because it is robust to outliers\n",
    "rc = RobustScaler()\n",
    "\n",
    "# scaling Exited normal \n",
    "X_train_Exited_normal = rc.fit_transform(X_train_Exited_normal)\n",
    "X_test_Exited_normal = rc.transform(X_test_Exited_normal)\n",
    "# scaling Exited_new \n",
    "X_train_Exited_new = rc.fit_transform(X_train_Exited_new)\n",
    "X_test_Exited_new = rc.transform(X_test_Exited_new)\n",
    "# scaling Exited_corr\n",
    "X_train_Exited_corr = rc.fit_transform(X_train_Exited_corr)\n",
    "X_test_Exited_corr = rc.transform(X_test_Exited_corr)\n",
    "# scaling Exited_ext\n",
    "X_train_Exited_ext = rc.fit_transform(X_train_Exited_ext)\n",
    "X_test_Exited_ext = rc.transform(X_test_Exited_ext)\n",
    "\n",
    "#scaling Credit\n",
    "X_train_Credit = rc.fit_transform(X_train_Credit)\n",
    "X_test_Credit = rc.transform(X_test_Credit)\n",
    "\n",
    "#scaling Prod\n",
    "X_train_Prod = rc.fit_transform(X_train_Prod)\n",
    "X_test_Prod = rc.transform(X_test_Prod)\n",
    "\n",
    "# scaling Active\n",
    "X_train_Active_normal = rc.fit_transform(X_train_Active_normal)\n",
    "X_test_Active_normal = rc.transform(X_test_Active_normal)\n",
    "# scaling Active\n",
    "X_train_Active_new = rc.fit_transform(X_train_Active_new)\n",
    "X_test_Active_new = rc.transform(X_test_Active_new)"
   ]
  },
  {
   "cell_type": "code",
   "execution_count": null,
   "metadata": {},
   "outputs": [],
   "source": [
    "\n",
    "\n"
   ]
  },
  {
   "cell_type": "code",
   "execution_count": 72,
   "metadata": {
    "scrolled": true
   },
   "outputs": [],
   "source": [
    "#defining the models that are needed for the function\n",
    "#logistic regression \n",
    "from sklearn.linear_model import LogisticRegression\n",
    "#define mean square error and r2 score\n",
    "from sklearn.metrics import mean_squared_error, r2_score\n",
    "clf_lg = LogisticRegression(random_state=0, multi_class='auto')\n",
    "\n",
    "#linear regression\n",
    "from sklearn.linear_model import LinearRegression\n",
    "clf_lr = LinearRegression()\n",
    "\n",
    "#svm\n",
    "from sklearn import svm\n",
    "clf_svm = svm.SVR()\n",
    "\n",
    "#ridge reg.\n",
    "from sklearn.linear_model import Ridge\n",
    "clf_ridge = Ridge(alpha=1.0)\n",
    "\n"
   ]
  },
  {
   "cell_type": "code",
   "execution_count": 73,
   "metadata": {},
   "outputs": [
    {
     "name": "stdout",
     "output_type": "stream",
     "text": [
      "old data logistic reg for Exited: \n",
      "r square:  -0.18633581412670663 squared loss:  0.1975 score accuracy:  0.8025\n",
      "new data logistic reg: \n",
      "r square:  1.0 squared loss:  0.0 score accuracy:  1.0\n",
      "corr with old data logistic reg: \n",
      "r square:  -0.36011420488321355 squared loss:  0.2395104895104895 score accuracy:  0.7604895104895105\n",
      "corr with new data logistic reg: \n",
      "r square:  -0.36507812533899164 squared loss:  0.2403846153846154 score accuracy:  0.7596153846153846\n",
      "\n",
      "\n",
      "old data logistic reg for StillActive: \n",
      "r square:  1.0 squared loss:  0.0 score accuracy:  1.0\n",
      "new data logistic reg for StillActive: \n",
      "r square:  1.0 squared loss:  0.0 score accuracy:  1.0\n",
      "new data linear Reg for Credit: \n",
      "r square:  -0.4041307261530396 squared loss:  11352.59743564217 score accuracy:  0.0026223776223776225\n",
      "old data lin regression for Exited: \n",
      "r square: "
     ]
    },
    {
     "name": "stderr",
     "output_type": "stream",
     "text": [
      "C:\\Users\\Eiden\\Anaconda3\\lib\\site-packages\\sklearn\\linear_model\\logistic.py:433: FutureWarning: Default solver will be changed to 'lbfgs' in 0.22. Specify a solver to silence this warning.\n",
      "  FutureWarning)\n",
      "C:\\Users\\Eiden\\Anaconda3\\lib\\site-packages\\sklearn\\linear_model\\logistic.py:433: FutureWarning: Default solver will be changed to 'lbfgs' in 0.22. Specify a solver to silence this warning.\n",
      "  FutureWarning)\n",
      "C:\\Users\\Eiden\\Anaconda3\\lib\\site-packages\\sklearn\\linear_model\\logistic.py:433: FutureWarning: Default solver will be changed to 'lbfgs' in 0.22. Specify a solver to silence this warning.\n",
      "  FutureWarning)\n",
      "C:\\Users\\Eiden\\Anaconda3\\lib\\site-packages\\sklearn\\linear_model\\logistic.py:433: FutureWarning: Default solver will be changed to 'lbfgs' in 0.22. Specify a solver to silence this warning.\n",
      "  FutureWarning)\n",
      "C:\\Users\\Eiden\\Anaconda3\\lib\\site-packages\\sklearn\\linear_model\\logistic.py:433: FutureWarning: Default solver will be changed to 'lbfgs' in 0.22. Specify a solver to silence this warning.\n",
      "  FutureWarning)\n",
      "C:\\Users\\Eiden\\Anaconda3\\lib\\site-packages\\sklearn\\linear_model\\logistic.py:433: FutureWarning: Default solver will be changed to 'lbfgs' in 0.22. Specify a solver to silence this warning.\n",
      "  FutureWarning)\n"
     ]
    },
    {
     "name": "stdout",
     "output_type": "stream",
     "text": [
      " 0.1390949752609102 squared loss:  0.14332260761353893 score accuracy:  0.794\n",
      "new data: \n",
      "r square:  1.0 squared loss:  5.575907790376079e-31 score accuracy:  1.0\n",
      "corr with old data: \n",
      "r square:  0.0801481715922362 squared loss:  0.1619821048174257 score accuracy:  0.7613636363636364\n",
      "corr with new data:\n",
      "r square:  0.07974017766485741 squared loss:  0.16205395086161298 score accuracy:  0.7596153846153846\n",
      "\n",
      "\n",
      "old data svm for Exited: \n"
     ]
    },
    {
     "name": "stderr",
     "output_type": "stream",
     "text": [
      "C:\\Users\\Eiden\\Anaconda3\\lib\\site-packages\\sklearn\\svm\\base.py:196: FutureWarning: The default value of gamma will change from 'auto' to 'scale' in version 0.22 to account better for unscaled features. Set gamma explicitly to 'auto' or 'scale' to avoid this warning.\n",
      "  \"avoid this warning.\", FutureWarning)\n"
     ]
    },
    {
     "name": "stdout",
     "output_type": "stream",
     "text": [
      "r square:  0.2788933285026425 squared loss:  0.12004911756420858 score accuracy:  0.849\n",
      "new data: \n",
      "r square:  0.9907437500733575 squared loss:  0.001629987351798842 score accuracy:  1.0\n",
      "corr with old data: \n"
     ]
    },
    {
     "name": "stderr",
     "output_type": "stream",
     "text": [
      "C:\\Users\\Eiden\\Anaconda3\\lib\\site-packages\\sklearn\\svm\\base.py:196: FutureWarning: The default value of gamma will change from 'auto' to 'scale' in version 0.22 to account better for unscaled features. Set gamma explicitly to 'auto' or 'scale' to avoid this warning.\n",
      "  \"avoid this warning.\", FutureWarning)\n",
      "C:\\Users\\Eiden\\Anaconda3\\lib\\site-packages\\sklearn\\svm\\base.py:196: FutureWarning: The default value of gamma will change from 'auto' to 'scale' in version 0.22 to account better for unscaled features. Set gamma explicitly to 'auto' or 'scale' to avoid this warning.\n",
      "  \"avoid this warning.\", FutureWarning)\n"
     ]
    },
    {
     "name": "stdout",
     "output_type": "stream",
     "text": [
      "r square:  0.027690213173140577 squared loss:  0.17121973446247254 score accuracy:  0.7832167832167832\n",
      "corr with new data: \n"
     ]
    },
    {
     "name": "stderr",
     "output_type": "stream",
     "text": [
      "C:\\Users\\Eiden\\Anaconda3\\lib\\site-packages\\sklearn\\svm\\base.py:196: FutureWarning: The default value of gamma will change from 'auto' to 'scale' in version 0.22 to account better for unscaled features. Set gamma explicitly to 'auto' or 'scale' to avoid this warning.\n",
      "  \"avoid this warning.\", FutureWarning)\n"
     ]
    },
    {
     "name": "stdout",
     "output_type": "stream",
     "text": [
      "r square:  -0.010054588742584691 squared loss:  0.17786643806343086 score accuracy:  0.7744755244755245\n",
      "\n",
      "\n",
      "old data ridge for Exited: \n",
      "r square:  0.13909619471885648 squared loss:  0.14332240459939952 score accuracy:  0.794\n",
      "new data: \n",
      "r square:  0.9999983241512479 squared loss:  2.951100382018597e-07 score accuracy:  1.0\n",
      "corr with old data: \n",
      "r square:  0.08013972828888172 squared loss:  0.1619835916482464 score accuracy:  0.7613636363636364\n",
      "corr with new data: \n",
      "r square:  0.07973691546968542 squared loss:  0.16205452532069864 score accuracy:  0.7596153846153846\n"
     ]
    }
   ],
   "source": [
    "#logistic regression##################################################\n",
    "print(\"old data logistic reg for Exited: \")\n",
    "calc_error_r(clf_lg, X_train_Exited_normal, X_test_Exited_normal, y_train_Exited_normal, y_test_Exited_normal)\n",
    "print(\"new data logistic reg: \")\n",
    "calc_error_r(clf_lg, X_train_Exited_new, X_test_Exited_new, y_train_Exited_new, y_test_Exited_new)\n",
    "print(\"corr with old data logistic reg: \")\n",
    "calc_error_r(clf_lg, X_train_Exited_corr, X_test_Exited_corr, y_train_Exited_corr, y_test_Exited_corr)\n",
    "print(\"corr with new data logistic reg: \")\n",
    "calc_error_r(clf_lg, X_train_Exited_ext, X_test_Exited_ext, y_train_Exited_ext, y_test_Exited_ext)\n",
    "print(\"\\n\")\n",
    "\n",
    "print(\"old data logistic reg for StillActive: \")\n",
    "calc_error_r(clf_lg, X_train_Active_normal, X_test_Active_normal, y_train_Active_normal, y_test_Active_normal) \n",
    "print(\"new data logistic reg for StillActive: \")\n",
    "calc_error_r(clf_lg, X_train_Active_new, X_test_Active_new, y_train_Active_new, y_test_Active_new) \n",
    "\n",
    "#Linear regression credit\n",
    "print(\"new data linear Reg for Credit: \")\n",
    "calc_error_r(clf_lr, X_train_Credit, X_test_Credit, y_train_Credit, y_test_Credit)\n",
    "\n",
    "\n",
    "#linear regression##################################################\n",
    "print(\"old data lin regression for Exited: \")\n",
    "calc_error_r(clf_lr, X_train_Exited_normal, X_test_Exited_normal, y_train_Exited_normal, y_test_Exited_normal)\n",
    "print(\"new data: \")\n",
    "calc_error_r(clf_lr, X_train_Exited_new, X_test_Exited_new, y_train_Exited_new, y_test_Exited_new)\n",
    "print(\"corr with old data: \")\n",
    "calc_error_r(clf_lr, X_train_Exited_corr, X_test_Exited_corr, y_train_Exited_corr, y_test_Exited_corr)\n",
    "print(\"corr with new data:\")\n",
    "calc_error_r(clf_lr, X_train_Exited_ext, X_test_Exited_ext, y_train_Exited_ext, y_test_Exited_ext)\n",
    "print(\"\\n\")\n",
    "\n",
    "#svm#################################################################\n",
    "print(\"old data svm for Exited: \")\n",
    "calc_error_r(clf_svm, X_train_Exited_normal, X_test_Exited_normal, y_train_Exited_normal, y_test_Exited_normal)\n",
    "print(\"new data: \")\n",
    "calc_error_r(clf_svm, X_train_Exited_new, X_test_Exited_new, y_train_Exited_new, y_test_Exited_new)\n",
    "print(\"corr with old data: \")\n",
    "calc_error_r(clf_svm, X_train_Exited_corr, X_test_Exited_corr, y_train_Exited_corr, y_test_Exited_corr)\n",
    "print(\"corr with new data: \")\n",
    "calc_error_r(clf_svm, X_train_Exited_ext, X_test_Exited_ext, y_train_Exited_ext, y_test_Exited_ext)\n",
    "print(\"\\n\")\n",
    "\n",
    "#ridge regression#####################################################\n",
    "print(\"old data ridge for Exited: \")\n",
    "calc_error_r(clf_ridge, X_train_Exited_normal, X_test_Exited_normal, y_train_Exited_normal, y_test_Exited_normal)\n",
    "print(\"new data: \")\n",
    "calc_error_r(clf_ridge, X_train_Exited_new, X_test_Exited_new, y_train_Exited_new, y_test_Exited_new)\n",
    "print(\"corr with old data: \")\n",
    "calc_error_r(clf_ridge, X_train_Exited_corr, X_test_Exited_corr, y_train_Exited_corr, y_test_Exited_corr)\n",
    "print(\"corr with new data: \")\n",
    "calc_error_r(clf_ridge, X_train_Exited_ext, X_test_Exited_ext, y_train_Exited_ext, y_test_Exited_ext)\n",
    "\n"
   ]
  },
  {
   "cell_type": "code",
   "execution_count": 75,
   "metadata": {
    "scrolled": false
   },
   "outputs": [
    {
     "name": "stdout",
     "output_type": "stream",
     "text": [
      "For Exited:\n",
      "cross validationc + ridge regression old data:  [0.12788273 0.16592164 0.13979245]\n",
      "cross validationc + ridge regression new data:  [0.99999614 0.99999628 0.9999961 ]\n"
     ]
    },
    {
     "name": "stderr",
     "output_type": "stream",
     "text": [
      "C:\\Users\\Eiden\\Anaconda3\\lib\\site-packages\\sklearn\\model_selection\\_split.py:2053: FutureWarning: You should specify a value for 'cv' instead of relying on the default value. The default value will change from 3 to 5 in version 0.22.\n",
      "  warnings.warn(CV_WARNING, FutureWarning)\n",
      "C:\\Users\\Eiden\\Anaconda3\\lib\\site-packages\\sklearn\\model_selection\\_split.py:2053: FutureWarning: You should specify a value for 'cv' instead of relying on the default value. The default value will change from 3 to 5 in version 0.22.\n",
      "  warnings.warn(CV_WARNING, FutureWarning)\n",
      "C:\\Users\\Eiden\\Anaconda3\\lib\\site-packages\\sklearn\\model_selection\\_split.py:2053: FutureWarning: You should specify a value for 'cv' instead of relying on the default value. The default value will change from 3 to 5 in version 0.22.\n",
      "  warnings.warn(CV_WARNING, FutureWarning)\n",
      "C:\\Users\\Eiden\\Anaconda3\\lib\\site-packages\\sklearn\\svm\\base.py:196: FutureWarning: The default value of gamma will change from 'auto' to 'scale' in version 0.22 to account better for unscaled features. Set gamma explicitly to 'auto' or 'scale' to avoid this warning.\n",
      "  \"avoid this warning.\", FutureWarning)\n",
      "C:\\Users\\Eiden\\Anaconda3\\lib\\site-packages\\sklearn\\svm\\base.py:196: FutureWarning: The default value of gamma will change from 'auto' to 'scale' in version 0.22 to account better for unscaled features. Set gamma explicitly to 'auto' or 'scale' to avoid this warning.\n",
      "  \"avoid this warning.\", FutureWarning)\n",
      "C:\\Users\\Eiden\\Anaconda3\\lib\\site-packages\\sklearn\\svm\\base.py:196: FutureWarning: The default value of gamma will change from 'auto' to 'scale' in version 0.22 to account better for unscaled features. Set gamma explicitly to 'auto' or 'scale' to avoid this warning.\n",
      "  \"avoid this warning.\", FutureWarning)\n"
     ]
    },
    {
     "name": "stdout",
     "output_type": "stream",
     "text": [
      "cross validation + SVM old data:  [0.29665392 0.28491497 0.29955497]\n"
     ]
    },
    {
     "name": "stderr",
     "output_type": "stream",
     "text": [
      "C:\\Users\\Eiden\\Anaconda3\\lib\\site-packages\\sklearn\\model_selection\\_split.py:2053: FutureWarning: You should specify a value for 'cv' instead of relying on the default value. The default value will change from 3 to 5 in version 0.22.\n",
      "  warnings.warn(CV_WARNING, FutureWarning)\n",
      "C:\\Users\\Eiden\\Anaconda3\\lib\\site-packages\\sklearn\\svm\\base.py:196: FutureWarning: The default value of gamma will change from 'auto' to 'scale' in version 0.22 to account better for unscaled features. Set gamma explicitly to 'auto' or 'scale' to avoid this warning.\n",
      "  \"avoid this warning.\", FutureWarning)\n",
      "C:\\Users\\Eiden\\Anaconda3\\lib\\site-packages\\sklearn\\svm\\base.py:196: FutureWarning: The default value of gamma will change from 'auto' to 'scale' in version 0.22 to account better for unscaled features. Set gamma explicitly to 'auto' or 'scale' to avoid this warning.\n",
      "  \"avoid this warning.\", FutureWarning)\n",
      "C:\\Users\\Eiden\\Anaconda3\\lib\\site-packages\\sklearn\\svm\\base.py:196: FutureWarning: The default value of gamma will change from 'auto' to 'scale' in version 0.22 to account better for unscaled features. Set gamma explicitly to 'auto' or 'scale' to avoid this warning.\n",
      "  \"avoid this warning.\", FutureWarning)\n"
     ]
    },
    {
     "name": "stdout",
     "output_type": "stream",
     "text": [
      "cross validation + SVM new data:  [0.98874863 0.98884102 0.98853599]\n"
     ]
    },
    {
     "name": "stderr",
     "output_type": "stream",
     "text": [
      "C:\\Users\\Eiden\\Anaconda3\\lib\\site-packages\\sklearn\\model_selection\\_split.py:2053: FutureWarning: You should specify a value for 'cv' instead of relying on the default value. The default value will change from 3 to 5 in version 0.22.\n",
      "  warnings.warn(CV_WARNING, FutureWarning)\n"
     ]
    },
    {
     "name": "stdout",
     "output_type": "stream",
     "text": [
      "cross validation + randomforest old data:  [0.85607196 0.86009002 0.85971493]\n"
     ]
    },
    {
     "name": "stderr",
     "output_type": "stream",
     "text": [
      "C:\\Users\\Eiden\\Anaconda3\\lib\\site-packages\\sklearn\\model_selection\\_split.py:2053: FutureWarning: You should specify a value for 'cv' instead of relying on the default value. The default value will change from 3 to 5 in version 0.22.\n",
      "  warnings.warn(CV_WARNING, FutureWarning)\n"
     ]
    },
    {
     "name": "stdout",
     "output_type": "stream",
     "text": [
      "cross validation + randomforest new data:  [1. 1. 1.]\n",
      "For StillActive\n",
      "cross validationc + ridge regression old data:  [0.99999615 0.99999629 0.99999611]\n",
      "For Balance\n",
      "cross validationc + linear regression new data:  [ 0.00052395  0.00041049 -0.00298844]\n",
      "cross validationc + ridge regression new data:  [ 0.00052746  0.00041373 -0.00297764]\n"
     ]
    },
    {
     "name": "stderr",
     "output_type": "stream",
     "text": [
      "C:\\Users\\Eiden\\Anaconda3\\lib\\site-packages\\sklearn\\model_selection\\_split.py:2053: FutureWarning: You should specify a value for 'cv' instead of relying on the default value. The default value will change from 3 to 5 in version 0.22.\n",
      "  warnings.warn(CV_WARNING, FutureWarning)\n",
      "C:\\Users\\Eiden\\Anaconda3\\lib\\site-packages\\sklearn\\model_selection\\_split.py:2053: FutureWarning: You should specify a value for 'cv' instead of relying on the default value. The default value will change from 3 to 5 in version 0.22.\n",
      "  warnings.warn(CV_WARNING, FutureWarning)\n",
      "C:\\Users\\Eiden\\Anaconda3\\lib\\site-packages\\sklearn\\model_selection\\_split.py:2053: FutureWarning: You should specify a value for 'cv' instead of relying on the default value. The default value will change from 3 to 5 in version 0.22.\n",
      "  warnings.warn(CV_WARNING, FutureWarning)\n",
      "C:\\Users\\Eiden\\Anaconda3\\lib\\site-packages\\sklearn\\model_selection\\_split.py:2053: FutureWarning: You should specify a value for 'cv' instead of relying on the default value. The default value will change from 3 to 5 in version 0.22.\n",
      "  warnings.warn(CV_WARNING, FutureWarning)\n",
      "C:\\Users\\Eiden\\Anaconda3\\lib\\site-packages\\sklearn\\svm\\base.py:196: FutureWarning: The default value of gamma will change from 'auto' to 'scale' in version 0.22 to account better for unscaled features. Set gamma explicitly to 'auto' or 'scale' to avoid this warning.\n",
      "  \"avoid this warning.\", FutureWarning)\n",
      "C:\\Users\\Eiden\\Anaconda3\\lib\\site-packages\\sklearn\\svm\\base.py:196: FutureWarning: The default value of gamma will change from 'auto' to 'scale' in version 0.22 to account better for unscaled features. Set gamma explicitly to 'auto' or 'scale' to avoid this warning.\n",
      "  \"avoid this warning.\", FutureWarning)\n",
      "C:\\Users\\Eiden\\Anaconda3\\lib\\site-packages\\sklearn\\svm\\base.py:196: FutureWarning: The default value of gamma will change from 'auto' to 'scale' in version 0.22 to account better for unscaled features. Set gamma explicitly to 'auto' or 'scale' to avoid this warning.\n",
      "  \"avoid this warning.\", FutureWarning)\n"
     ]
    },
    {
     "name": "stdout",
     "output_type": "stream",
     "text": [
      "cross validation + SVM new data:  [ 0.00023921 -0.00252557  0.00061994]\n"
     ]
    },
    {
     "name": "stderr",
     "output_type": "stream",
     "text": [
      "C:\\Users\\Eiden\\Anaconda3\\lib\\site-packages\\sklearn\\model_selection\\_split.py:2053: FutureWarning: You should specify a value for 'cv' instead of relying on the default value. The default value will change from 3 to 5 in version 0.22.\n",
      "  warnings.warn(CV_WARNING, FutureWarning)\n",
      "C:\\Users\\Eiden\\Anaconda3\\lib\\site-packages\\sklearn\\model_selection\\_split.py:652: Warning: The least populated class in y has only 1 members, which is too few. The minimum number of members in any class cannot be less than n_splits=3.\n",
      "  % (min_groups, self.n_splits)), Warning)\n"
     ]
    },
    {
     "name": "stdout",
     "output_type": "stream",
     "text": [
      "cross validation + randomforest new data:  [0.00059737 0.00395517 0.00072307]\n",
      "For Prod\n",
      "cross validationc + linear regression new data:  [1. 1. 1.]\n"
     ]
    },
    {
     "name": "stderr",
     "output_type": "stream",
     "text": [
      "C:\\Users\\Eiden\\Anaconda3\\lib\\site-packages\\sklearn\\model_selection\\_split.py:2053: FutureWarning: You should specify a value for 'cv' instead of relying on the default value. The default value will change from 3 to 5 in version 0.22.\n",
      "  warnings.warn(CV_WARNING, FutureWarning)\n"
     ]
    }
   ],
   "source": [
    "#######faster way##############\n",
    "##############using cross validation#################################\n",
    "from sklearn.model_selection import cross_val_score\n",
    "from sklearn.ensemble import RandomForestClassifier\n",
    "\n",
    "print(\"For Exited:\")\n",
    "print(\"cross validationc + ridge regression old data: \",cross_val_score(clf_ridge, X_train_Exited_normal, y_train_Exited_normal))\n",
    "print(\"cross validationc + ridge regression new data: \",cross_val_score(clf_ridge, X_train_Exited_new, y_train_Exited_new))\n",
    "print(\"cross validation + SVM old data: \",cross_val_score(clf_svm, X_train_Exited_normal, y_train_Exited_normal))\n",
    "print(\"cross validation + SVM new data: \",cross_val_score(clf_svm, X_train_Exited_new, y_train_Exited_new))\n",
    "print(\"cross validation + randomforest old data: \",cross_val_score(RandomForestClassifier(n_estimators=40), X_train_Exited_normal, y_train_Exited_normal))\n",
    "print(\"cross validation + randomforest new data: \",cross_val_score(RandomForestClassifier(n_estimators=40), X_train_Exited_new, y_train_Exited_new))\n",
    "\n",
    "print(\"For StillActive\")\n",
    "print(\"cross validationc + ridge regression old data: \",cross_val_score(clf_ridge, X_train_Active_new, y_train_Active_new))\n",
    "\n",
    "print(\"For Balance\")\n",
    "print(\"cross validationc + linear regression new data: \",cross_val_score(clf_lr, X_train_Credit, y_train_Credit))\n",
    "print(\"cross validationc + ridge regression new data: \",cross_val_score(clf_ridge, X_train_Credit, y_train_Credit))\n",
    "print(\"cross validation + SVM new data: \",cross_val_score(clf_svm, X_train_Credit, y_train_Credit))\n",
    "print(\"cross validation + randomforest new data: \",cross_val_score(RandomForestClassifier(n_estimators=40), X_train_Credit, y_train_Credit))\n",
    "print(\"For Prod\")\n",
    "print(\"cross validationc + linear regression new data: \",cross_val_score(clf_lr, X_train_Prod, y_train_Prod))\n"
   ]
  },
  {
   "cell_type": "code",
   "execution_count": null,
   "metadata": {},
   "outputs": [],
   "source": []
  }
 ],
 "metadata": {
  "kernelspec": {
   "display_name": "Python 3",
   "language": "python",
   "name": "python3"
  },
  "language_info": {
   "codemirror_mode": {
    "name": "ipython",
    "version": 3
   },
   "file_extension": ".py",
   "mimetype": "text/x-python",
   "name": "python",
   "nbconvert_exporter": "python",
   "pygments_lexer": "ipython3",
   "version": "3.7.3"
  }
 },
 "nbformat": 4,
 "nbformat_minor": 2
}
